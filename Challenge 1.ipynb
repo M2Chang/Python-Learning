{
 "cells": [
  {
   "cell_type": "code",
   "execution_count": 1,
   "metadata": {},
   "outputs": [],
   "source": [
    "lease = '''Dear Dot, \n",
    "           This document validates that you are beholden to a monthly payment of rent for this house.\n",
    "           Rent is to be paid by the first of every month.\n",
    "           Fill in your signature to agree to these terms.  \n",
    "            -------------\n",
    "            Please Sign Here: \n",
    "'''"
   ]
  },
  {
   "cell_type": "code",
   "execution_count": 3,
   "metadata": {},
   "outputs": [],
   "source": [
    "signature = 'Dot'"
   ]
  },
  {
   "cell_type": "code",
   "execution_count": 4,
   "metadata": {},
   "outputs": [],
   "source": [
    "new = lease + signature"
   ]
  },
  {
   "cell_type": "code",
   "execution_count": 5,
   "metadata": {},
   "outputs": [
    {
     "data": {
      "text/plain": [
       "'Dear Dot, \\n           This document validates that you are beholden to a monthly payment of rent for this house.\\n           Rent is to be paid by the first of every month.\\n           Fill in your signature to agree to these terms.  \\n            -------------\\n            Please Sign Here: \\nDot'"
      ]
     },
     "execution_count": 5,
     "metadata": {},
     "output_type": "execute_result"
    }
   ],
   "source": [
    "new"
   ]
  }
 ],
 "metadata": {
  "kernelspec": {
   "display_name": "Python 3",
   "language": "python",
   "name": "python3"
  },
  "language_info": {
   "codemirror_mode": {
    "name": "ipython",
    "version": 3
   },
   "file_extension": ".py",
   "mimetype": "text/x-python",
   "name": "python",
   "nbconvert_exporter": "python",
   "pygments_lexer": "ipython3",
   "version": "3.8.3"
  }
 },
 "nbformat": 4,
 "nbformat_minor": 4
}
