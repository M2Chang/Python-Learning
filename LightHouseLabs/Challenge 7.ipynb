{
 "cells": [
  {
   "cell_type": "code",
   "execution_count": 61,
   "metadata": {},
   "outputs": [],
   "source": [
    "#Creating Functions\n",
    "\n",
    "#example dicitonary\n",
    "user_boxes = {'weight': [4,2,18,21,14,13],\n",
    "              'box_name': ['box1','box2', 'box3', 'box4', 'box5', 'box6']\n",
    "             }"
   ]
  },
  {
   "cell_type": "code",
   "execution_count": 62,
   "metadata": {},
   "outputs": [],
   "source": [
    "def open_box_order(lst):\n",
    "    for i in range(len(lst['weight'])):\n",
    "        for j in range(len(lst['weight']) - 1):\n",
    "            if lst['weight'][j] > lst['weight'][j+1]:\n",
    "                temp = lst['weight'][j]\n",
    "                lst['weight'][j] = lst['weight'][j+1]\n",
    "                lst['weight'][j+1] = temp\n",
    "                \n",
    "                boxtemp = lst['box_name'][j]\n",
    "                lst['box_name'][j] = lst['box_name'][j+1]\n",
    "                lst['box_name'][j+1] = boxtemp\n",
    "                \n",
    "    return print(lst)\n"
   ]
  },
  {
   "cell_type": "code",
   "execution_count": 64,
   "metadata": {},
   "outputs": [
    {
     "name": "stdout",
     "output_type": "stream",
     "text": [
      "{'weight': [2, 4, 13, 14, 18, 21], 'box_name': ['box2', 'box1', 'box6', 'box5', 'box3', 'box4']}\n"
     ]
    }
   ],
   "source": [
    "open_box_order(user_boxes)"
   ]
  }
 ],
 "metadata": {
  "kernelspec": {
   "display_name": "Python 3",
   "language": "python",
   "name": "python3"
  },
  "language_info": {
   "codemirror_mode": {
    "name": "ipython",
    "version": 3
   },
   "file_extension": ".py",
   "mimetype": "text/x-python",
   "name": "python",
   "nbconvert_exporter": "python",
   "pygments_lexer": "ipython3",
   "version": "3.8.3"
  }
 },
 "nbformat": 4,
 "nbformat_minor": 4
}
