{
 "cells": [
  {
   "cell_type": "code",
   "execution_count": 1,
   "metadata": {},
   "outputs": [
    {
     "name": "stdout",
     "output_type": "stream",
     "text": [
      "    Month  Monthly milk production: pounds per cow  Number of Cows\n",
      "0  07-Feb                                    589.0            30.0\n",
      "1  07-Mar                                    561.0            32.0\n",
      "2  07-Apr                                    640.0            35.0\n",
      "\n",
      "\n",
      "(168, 3)\n"
     ]
    }
   ],
   "source": [
    "import pandas as pd\n",
    "df = pd.read_csv('milk_2.csv')\n",
    "\n",
    "print(df.head(3)) #Inputing the value 3 inside the brackets of the df.head() function allows us to\n",
    "                  #override the default value of 5.\n",
    "print('\\n') # \n",
    "\n",
    "print(df.shape)"
   ]
  },
  {
   "cell_type": "code",
   "execution_count": 2,
   "metadata": {},
   "outputs": [
    {
     "name": "stdout",
     "output_type": "stream",
     "text": [
      "<class 'pandas.core.frame.DataFrame'>\n",
      "RangeIndex: 168 entries, 0 to 167\n",
      "Data columns (total 3 columns):\n",
      " #   Column                                   Non-Null Count  Dtype  \n",
      "---  ------                                   --------------  -----  \n",
      " 0   Month                                    168 non-null    object \n",
      " 1   Monthly milk production: pounds per cow  150 non-null    float64\n",
      " 2   Number of Cows                           151 non-null    float64\n",
      "dtypes: float64(2), object(1)\n",
      "memory usage: 4.1+ KB\n"
     ]
    }
   ],
   "source": [
    "df.info()"
   ]
  },
  {
   "cell_type": "code",
   "execution_count": 4,
   "metadata": {},
   "outputs": [
    {
     "data": {
      "text/plain": [
       "Month                                       0\n",
       "Monthly milk production: pounds per cow    18\n",
       "Number of Cows                             17\n",
       "dtype: int64"
      ]
     },
     "execution_count": 4,
     "metadata": {},
     "output_type": "execute_result"
    }
   ],
   "source": [
    "df.isnull().sum(axis = 0)"
   ]
  },
  {
   "cell_type": "code",
   "execution_count": 21,
   "metadata": {},
   "outputs": [
    {
     "name": "stdout",
     "output_type": "stream",
     "text": [
      "755.5\n"
     ]
    }
   ],
   "source": [
    "median = df['Monthly milk production: pounds per cow'].median()\n",
    "\n",
    "print(median)"
   ]
  },
  {
   "cell_type": "code",
   "execution_count": 22,
   "metadata": {},
   "outputs": [],
   "source": [
    "df['Monthly milk production: pounds per cow'] = df['Monthly milk production: pounds per cow'].fillna(value = median)"
   ]
  },
  {
   "cell_type": "code",
   "execution_count": 23,
   "metadata": {},
   "outputs": [
    {
     "data": {
      "text/plain": [
       "Month                                      0\n",
       "Monthly milk production: pounds per cow    0\n",
       "Number of Cows                             0\n",
       "dtype: int64"
      ]
     },
     "execution_count": 23,
     "metadata": {},
     "output_type": "execute_result"
    }
   ],
   "source": [
    "df.isnull().sum(axis = 0)"
   ]
  },
  {
   "cell_type": "code",
   "execution_count": 24,
   "metadata": {},
   "outputs": [],
   "source": [
    "df['Number of Cows'] = df['Number of Cows'].fillna(method = 'ffill')"
   ]
  },
  {
   "cell_type": "code",
   "execution_count": 25,
   "metadata": {},
   "outputs": [
    {
     "data": {
      "text/plain": [
       "Month                                      0\n",
       "Monthly milk production: pounds per cow    0\n",
       "Number of Cows                             0\n",
       "dtype: int64"
      ]
     },
     "execution_count": 25,
     "metadata": {},
     "output_type": "execute_result"
    }
   ],
   "source": [
    "df.isnull().sum(axis = 0)"
   ]
  },
  {
   "cell_type": "code",
   "execution_count": 26,
   "metadata": {},
   "outputs": [
    {
     "name": "stdout",
     "output_type": "stream",
     "text": [
      "748.0535714285714\n"
     ]
    }
   ],
   "source": [
    "#What is the average for monthly milk production?\n",
    "\n",
    "milkpro = df['Monthly milk production: pounds per cow'].mean()\n",
    "\n",
    "print (milkpro)\n",
    "\n",
    "#What is the average number of cows used?"
   ]
  },
  {
   "cell_type": "code",
   "execution_count": 27,
   "metadata": {},
   "outputs": [
    {
     "name": "stdout",
     "output_type": "stream",
     "text": [
      "93.64783112594579\n"
     ]
    }
   ],
   "source": [
    "#What is the standard deviation for monthly milk production?\n",
    "\n",
    "milkstd = df['Monthly milk production: pounds per cow'].std()\n",
    "\n",
    "print (milkstd)"
   ]
  },
  {
   "cell_type": "code",
   "execution_count": 28,
   "metadata": {},
   "outputs": [
    {
     "name": "stdout",
     "output_type": "stream",
     "text": [
      "49.898809523809526\n"
     ]
    }
   ],
   "source": [
    "#What is the average number of cows used?\n",
    "\n",
    "milkavg = df['Number of Cows'].mean()\n",
    "\n",
    "print (milkavg)"
   ]
  }
 ],
 "metadata": {
  "kernelspec": {
   "display_name": "Python 3",
   "language": "python",
   "name": "python3"
  },
  "language_info": {
   "codemirror_mode": {
    "name": "ipython",
    "version": 3
   },
   "file_extension": ".py",
   "mimetype": "text/x-python",
   "name": "python",
   "nbconvert_exporter": "python",
   "pygments_lexer": "ipython3",
   "version": "3.8.3"
  }
 },
 "nbformat": 4,
 "nbformat_minor": 4
}
