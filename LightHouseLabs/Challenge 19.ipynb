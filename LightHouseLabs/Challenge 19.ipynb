{
 "cells": [
  {
   "cell_type": "code",
   "execution_count": 3,
   "metadata": {},
   "outputs": [
    {
     "data": {
      "text/html": [
       "<div>\n",
       "<style scoped>\n",
       "    .dataframe tbody tr th:only-of-type {\n",
       "        vertical-align: middle;\n",
       "    }\n",
       "\n",
       "    .dataframe tbody tr th {\n",
       "        vertical-align: top;\n",
       "    }\n",
       "\n",
       "    .dataframe thead th {\n",
       "        text-align: right;\n",
       "    }\n",
       "</style>\n",
       "<table border=\"1\" class=\"dataframe\">\n",
       "  <thead>\n",
       "    <tr style=\"text-align: right;\">\n",
       "      <th></th>\n",
       "      <th>rank</th>\n",
       "      <th>bgg_url</th>\n",
       "      <th>game_id</th>\n",
       "      <th>names</th>\n",
       "      <th>min_players</th>\n",
       "      <th>max_players</th>\n",
       "      <th>avg_time</th>\n",
       "      <th>min_time</th>\n",
       "      <th>max_time</th>\n",
       "      <th>year</th>\n",
       "      <th>avg_rating</th>\n",
       "      <th>geek_rating</th>\n",
       "      <th>num_votes</th>\n",
       "      <th>image_url</th>\n",
       "      <th>age</th>\n",
       "      <th>mechanic</th>\n",
       "      <th>owned</th>\n",
       "      <th>category</th>\n",
       "      <th>designer</th>\n",
       "      <th>weight</th>\n",
       "    </tr>\n",
       "  </thead>\n",
       "  <tbody>\n",
       "    <tr>\n",
       "      <th>0</th>\n",
       "      <td>1</td>\n",
       "      <td>https://boardgamegeek.com/boardgame/174430/glo...</td>\n",
       "      <td>174430</td>\n",
       "      <td>Gloomhaven</td>\n",
       "      <td>1</td>\n",
       "      <td>4</td>\n",
       "      <td>120</td>\n",
       "      <td>60</td>\n",
       "      <td>120</td>\n",
       "      <td>2017</td>\n",
       "      <td>8.98893</td>\n",
       "      <td>8.61858</td>\n",
       "      <td>15376</td>\n",
       "      <td>https://cf.geekdo-images.com/original/img/lDN3...</td>\n",
       "      <td>12</td>\n",
       "      <td>Action / Movement Programming, Co-operative Pl...</td>\n",
       "      <td>25928</td>\n",
       "      <td>Adventure, Exploration, Fantasy, Fighting, Min...</td>\n",
       "      <td>Isaac Childres</td>\n",
       "      <td>3.7543</td>\n",
       "    </tr>\n",
       "    <tr>\n",
       "      <th>1</th>\n",
       "      <td>2</td>\n",
       "      <td>https://boardgamegeek.com/boardgame/161936/pan...</td>\n",
       "      <td>161936</td>\n",
       "      <td>Pandemic Legacy: Season 1</td>\n",
       "      <td>2</td>\n",
       "      <td>4</td>\n",
       "      <td>60</td>\n",
       "      <td>60</td>\n",
       "      <td>60</td>\n",
       "      <td>2015</td>\n",
       "      <td>8.66140</td>\n",
       "      <td>8.50163</td>\n",
       "      <td>26063</td>\n",
       "      <td>https://cf.geekdo-images.com/original/img/P_Sw...</td>\n",
       "      <td>13</td>\n",
       "      <td>Action Point Allowance System, Co-operative Pl...</td>\n",
       "      <td>41605</td>\n",
       "      <td>Environmental, Medical</td>\n",
       "      <td>Rob Daviau, Matt Leacock</td>\n",
       "      <td>2.8210</td>\n",
       "    </tr>\n",
       "    <tr>\n",
       "      <th>2</th>\n",
       "      <td>3</td>\n",
       "      <td>https://boardgamegeek.com/boardgame/182028/thr...</td>\n",
       "      <td>182028</td>\n",
       "      <td>Through the Ages: A New Story of Civilization</td>\n",
       "      <td>2</td>\n",
       "      <td>4</td>\n",
       "      <td>240</td>\n",
       "      <td>180</td>\n",
       "      <td>240</td>\n",
       "      <td>2015</td>\n",
       "      <td>8.60673</td>\n",
       "      <td>8.30183</td>\n",
       "      <td>12352</td>\n",
       "      <td>https://cf.geekdo-images.com/original/img/1d2h...</td>\n",
       "      <td>14</td>\n",
       "      <td>Action Point Allowance System, Auction/Bidding...</td>\n",
       "      <td>15848</td>\n",
       "      <td>Card Game, Civilization, Economic</td>\n",
       "      <td>Vlaada Chvátil</td>\n",
       "      <td>4.3678</td>\n",
       "    </tr>\n",
       "  </tbody>\n",
       "</table>\n",
       "</div>"
      ],
      "text/plain": [
       "   rank                                            bgg_url  game_id  \\\n",
       "0     1  https://boardgamegeek.com/boardgame/174430/glo...   174430   \n",
       "1     2  https://boardgamegeek.com/boardgame/161936/pan...   161936   \n",
       "2     3  https://boardgamegeek.com/boardgame/182028/thr...   182028   \n",
       "\n",
       "                                           names  min_players  max_players  \\\n",
       "0                                     Gloomhaven            1            4   \n",
       "1                      Pandemic Legacy: Season 1            2            4   \n",
       "2  Through the Ages: A New Story of Civilization            2            4   \n",
       "\n",
       "   avg_time  min_time  max_time  year  avg_rating  geek_rating  num_votes  \\\n",
       "0       120        60       120  2017     8.98893      8.61858      15376   \n",
       "1        60        60        60  2015     8.66140      8.50163      26063   \n",
       "2       240       180       240  2015     8.60673      8.30183      12352   \n",
       "\n",
       "                                           image_url  age  \\\n",
       "0  https://cf.geekdo-images.com/original/img/lDN3...   12   \n",
       "1  https://cf.geekdo-images.com/original/img/P_Sw...   13   \n",
       "2  https://cf.geekdo-images.com/original/img/1d2h...   14   \n",
       "\n",
       "                                            mechanic  owned  \\\n",
       "0  Action / Movement Programming, Co-operative Pl...  25928   \n",
       "1  Action Point Allowance System, Co-operative Pl...  41605   \n",
       "2  Action Point Allowance System, Auction/Bidding...  15848   \n",
       "\n",
       "                                            category  \\\n",
       "0  Adventure, Exploration, Fantasy, Fighting, Min...   \n",
       "1                             Environmental, Medical   \n",
       "2                  Card Game, Civilization, Economic   \n",
       "\n",
       "                   designer  weight  \n",
       "0            Isaac Childres  3.7543  \n",
       "1  Rob Daviau, Matt Leacock  2.8210  \n",
       "2            Vlaada Chvátil  4.3678  "
      ]
     },
     "execution_count": 3,
     "metadata": {},
     "output_type": "execute_result"
    }
   ],
   "source": [
    "#Histograms with Matplotlib\n",
    "\n",
    "import pandas as pd\n",
    "import matplotlib.pyplot as plt\n",
    "\n",
    "df = pd.read_csv('boardgames.csv')\n",
    "df.head(3)"
   ]
  },
  {
   "cell_type": "code",
   "execution_count": 9,
   "metadata": {},
   "outputs": [
    {
     "data": {
      "text/plain": [
       "0"
      ]
     },
     "execution_count": 9,
     "metadata": {},
     "output_type": "execute_result"
    }
   ],
   "source": [
    "#What type of distribution does the column avg_time have?\n",
    "\n",
    "df['avg_time'].min()"
   ]
  },
  {
   "cell_type": "code",
   "execution_count": 10,
   "metadata": {},
   "outputs": [
    {
     "data": {
      "text/plain": [
       "22500"
      ]
     },
     "execution_count": 10,
     "metadata": {},
     "output_type": "execute_result"
    }
   ],
   "source": [
    "df['avg_time'].max()"
   ]
  },
  {
   "cell_type": "code",
   "execution_count": 16,
   "metadata": {},
   "outputs": [
    {
     "data": {
      "image/png": "[encoded data removed]",
      "text/plain": [
       "<Figure size 432x288 with 1 Axes>"
      ]
     },
     "metadata": {
      "needs_background": "light"
     },
     "output_type": "display_data"
    }
   ],
   "source": [
    "plt.figure()\n",
    "plt.hist(df['avg_time'], bins = 40, range=(0, 5000)) #Play around with the bin sizes when plotting your histogram\n",
    "plt.show()"
   ]
  },
  {
   "cell_type": "code",
   "execution_count": 30,
   "metadata": {},
   "outputs": [],
   "source": [
    "#Do games that have a great avg_rating have longer play times?\n",
    "\n",
    "avgfilter = df['avg_rating'] >= 9\n",
    "df_filter = df[avgfilter]"
   ]
  },
  {
   "cell_type": "code",
   "execution_count": 31,
   "metadata": {},
   "outputs": [
    {
     "data": {
      "image/png": "[encoded data removed]",
      "text/plain": [
       "<Figure size 432x288 with 1 Axes>"
      ]
     },
     "metadata": {
      "needs_background": "light"
     },
     "output_type": "display_data"
    }
   ],
   "source": [
    "plt.figure()\n",
    "plt.hist(df_filter['avg_time'], bins = 10, range=(0, 600)) #Play around with the bin sizes when plotting your histogram\n",
    "plt.show()\n",
    "\n",
    "#Yes because the longer the time is, the higher the game is rated"
   ]
  }
 ],
 "metadata": {
  "kernelspec": {
   "display_name": "Python 3",
   "language": "python",
   "name": "python3"
  },
  "language_info": {
   "codemirror_mode": {
    "name": "ipython",
    "version": 3
   },
   "file_extension": ".py",
   "mimetype": "text/x-python",
   "name": "python",
   "nbconvert_exporter": "python",
   "pygments_lexer": "ipython3",
   "version": "3.8.3"
  }
 },
 "nbformat": 4,
 "nbformat_minor": 4
}
