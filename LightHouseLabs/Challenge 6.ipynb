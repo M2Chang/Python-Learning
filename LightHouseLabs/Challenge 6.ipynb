{
 "cells": [
  {
   "cell_type": "code",
   "execution_count": 24,
   "metadata": {},
   "outputs": [
    {
     "data": {
      "text/plain": [
       "[9, 3, 1, 21, 35]"
      ]
     },
     "execution_count": 24,
     "metadata": {},
     "output_type": "execute_result"
    }
   ],
   "source": [
    "#Using Panda Library\n",
    "import random \n",
    "random.seed(34)\n",
    "\n",
    "hole_sizes = [random.randint(1, i) for i in range(1, 101)]\n",
    "random.shuffle(hole_sizes)\n",
    "\n",
    "# hole sizes in mm\n",
    "hole_sizes[:5]"
   ]
  },
  {
   "cell_type": "code",
   "execution_count": 13,
   "metadata": {},
   "outputs": [
    {
     "name": "stdout",
     "output_type": "stream",
     "text": [
      "28.39\n"
     ]
    }
   ],
   "source": [
    "#What is the average sized hole?\n",
    "\n",
    "import pandas as pd\n",
    "series = pd.Series(hole_sizes) #series converts it into series variable for Panda\n",
    "print(series.mean())"
   ]
  },
  {
   "cell_type": "code",
   "execution_count": 29,
   "metadata": {},
   "outputs": [],
   "source": [
    "#What is the total cost of fixing all of the holes?\n",
    "total = 0.0\n",
    "for i in range(len(hole_sizes)):\n",
    "    if hole_sizes[i] < 20:\n",
    "        total += 1.3\n",
    "    elif hole_sizes[i] >= 20 and hole_sizes[i] <= 70: \n",
    "        total += 1.6\n",
    "    else:\n",
    "        total += 2.1"
   ]
  },
  {
   "cell_type": "code",
   "execution_count": 28,
   "metadata": {},
   "outputs": [
    {
     "name": "stdout",
     "output_type": "stream",
     "text": [
      "148.79999999999987\n"
     ]
    }
   ],
   "source": [
    "print(total)"
   ]
  },
  {
   "cell_type": "code",
   "execution_count": 31,
   "metadata": {},
   "outputs": [
    {
     "name": "stdout",
     "output_type": "stream",
     "text": [
      "1.4879999999999987\n"
     ]
    }
   ],
   "source": [
    "# What is the average cost to fix a hole?\n",
    "print(total/100)"
   ]
  },
  {
   "cell_type": "code",
   "execution_count": 32,
   "metadata": {},
   "outputs": [
    {
     "name": "stdout",
     "output_type": "stream",
     "text": [
      "96\n"
     ]
    }
   ],
   "source": [
    "#What is the maximum sized hole?\n",
    "print(series.max())"
   ]
  },
  {
   "cell_type": "code",
   "execution_count": 33,
   "metadata": {},
   "outputs": [
    {
     "name": "stdout",
     "output_type": "stream",
     "text": [
      "1\n"
     ]
    }
   ],
   "source": [
    "#What is the minimum sized hole?\n",
    "print(series.min())"
   ]
  }
 ],
 "metadata": {
  "kernelspec": {
   "display_name": "Python 3",
   "language": "python",
   "name": "python3"
  },
  "language_info": {
   "codemirror_mode": {
    "name": "ipython",
    "version": 3
   },
   "file_extension": ".py",
   "mimetype": "text/x-python",
   "name": "python",
   "nbconvert_exporter": "python",
   "pygments_lexer": "ipython3",
   "version": "3.8.3"
  }
 },
 "nbformat": 4,
 "nbformat_minor": 4
}
