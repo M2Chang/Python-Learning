{
 "cells": [
  {
   "cell_type": "code",
   "execution_count": 2,
   "metadata": {},
   "outputs": [],
   "source": [
    "#import the pandas plugin\n",
    "import pandas as pd # pd is the alias we have given to pandas."
   ]
  },
  {
   "cell_type": "code",
   "execution_count": 3,
   "metadata": {},
   "outputs": [
    {
     "data": {
      "text/html": [
       "<div>\n",
       "<style scoped>\n",
       "    .dataframe tbody tr th:only-of-type {\n",
       "        vertical-align: middle;\n",
       "    }\n",
       "\n",
       "    .dataframe tbody tr th {\n",
       "        vertical-align: top;\n",
       "    }\n",
       "\n",
       "    .dataframe thead th {\n",
       "        text-align: right;\n",
       "    }\n",
       "</style>\n",
       "<table border=\"1\" class=\"dataframe\">\n",
       "  <thead>\n",
       "    <tr style=\"text-align: right;\">\n",
       "      <th></th>\n",
       "      <th>Month</th>\n",
       "      <th>Monthly milk production: pounds per cow</th>\n",
       "    </tr>\n",
       "  </thead>\n",
       "  <tbody>\n",
       "    <tr>\n",
       "      <th>0</th>\n",
       "      <td>07-Feb</td>\n",
       "      <td>589</td>\n",
       "    </tr>\n",
       "    <tr>\n",
       "      <th>1</th>\n",
       "      <td>07-Mar</td>\n",
       "      <td>561</td>\n",
       "    </tr>\n",
       "    <tr>\n",
       "      <th>2</th>\n",
       "      <td>07-Apr</td>\n",
       "      <td>640</td>\n",
       "    </tr>\n",
       "    <tr>\n",
       "      <th>3</th>\n",
       "      <td>07-May</td>\n",
       "      <td>656</td>\n",
       "    </tr>\n",
       "    <tr>\n",
       "      <th>4</th>\n",
       "      <td>07-Jun</td>\n",
       "      <td>727</td>\n",
       "    </tr>\n",
       "  </tbody>\n",
       "</table>\n",
       "</div>"
      ],
      "text/plain": [
       "    Month  Monthly milk production: pounds per cow\n",
       "0  07-Feb                                      589\n",
       "1  07-Mar                                      561\n",
       "2  07-Apr                                      640\n",
       "3  07-May                                      656\n",
       "4  07-Jun                                      727"
      ]
     },
     "execution_count": 3,
     "metadata": {},
     "output_type": "execute_result"
    }
   ],
   "source": [
    "#To Read a Dataset\n",
    "#Milk.csv is stored into a Pandas DataFrame variable called df.\n",
    "df = pd.read_csv('milk.csv')\n",
    "\n",
    "#df.head() function displays the first 5 rows of the dataset\n",
    "df.head()"
   ]
  },
  {
   "cell_type": "code",
   "execution_count": 21,
   "metadata": {},
   "outputs": [
    {
     "name": "stdout",
     "output_type": "stream",
     "text": [
      "148 969\n"
     ]
    },
    {
     "data": {
      "text/plain": [
       "Month                                      19-Jun\n",
       "Monthly milk production: pounds per cow       969\n",
       "Name: 148, dtype: object"
      ]
     },
     "execution_count": 21,
     "metadata": {},
     "output_type": "execute_result"
    }
   ],
   "source": [
    "#At what year and month did company x produce the most milk?\n",
    "\n",
    "maxmilk = (df['Monthly milk production: pounds per cow'].max())\n",
    "maxmilkindex = (df['Monthly milk production: pounds per cow'].idxmax())\n",
    "\n",
    "print(maxmilkindex , maxmilk)\n",
    "\n",
    "df.loc[148]"
   ]
  },
  {
   "cell_type": "code",
   "execution_count": 24,
   "metadata": {},
   "outputs": [
    {
     "name": "stdout",
     "output_type": "stream",
     "text": [
      "10 553\n"
     ]
    },
    {
     "data": {
      "text/plain": [
       "Month                                      07-Dec\n",
       "Monthly milk production: pounds per cow       553\n",
       "Name: 10, dtype: object"
      ]
     },
     "execution_count": 24,
     "metadata": {},
     "output_type": "execute_result"
    }
   ],
   "source": [
    "#At what year and month did company x produce the least milk?\n",
    "\n",
    "maxmilk = (df['Monthly milk production: pounds per cow'].min())\n",
    "maxmilkindex = (df['Monthly milk production: pounds per cow'].idxmin())\n",
    "\n",
    "print(maxmilkindex , maxmilk)\n",
    "\n",
    "\n",
    "df.loc[10]"
   ]
  }
 ],
 "metadata": {
  "kernelspec": {
   "display_name": "Python 3",
   "language": "python",
   "name": "python3"
  },
  "language_info": {
   "codemirror_mode": {
    "name": "ipython",
    "version": 3
   },
   "file_extension": ".py",
   "mimetype": "text/x-python",
   "name": "python",
   "nbconvert_exporter": "python",
   "pygments_lexer": "ipython3",
   "version": "3.8.3"
  }
 },
 "nbformat": 4,
 "nbformat_minor": 4
}
