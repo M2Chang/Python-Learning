{
 "cells": [
  {
   "cell_type": "code",
   "execution_count": 1,
   "metadata": {},
   "outputs": [],
   "source": [
    "item_list = ['Oak Wood', 'Blue Paint', 'White Paint', 'Paint Finish']\n",
    "\n",
    "amount_list = [600,150,15,165]\n",
    "\n",
    "wholesale_price_list = [7000, 1000, 1000, 800]\n",
    "\n",
    "retail_price = [12.99, 8.99, 9.99, 3.99]"
   ]
  },
  {
   "cell_type": "code",
   "execution_count": 13,
   "metadata": {},
   "outputs": [],
   "source": [
    "full_price = []\n",
    "\n",
    "for i in range(len(retail_price)):\n",
    "    total = amount_list[i] * retail_price[i]\n",
    "    full_price.append(total)\n",
    "    "
   ]
  },
  {
   "cell_type": "code",
   "execution_count": 14,
   "metadata": {},
   "outputs": [
    {
     "data": {
      "text/plain": [
       "[7794.0, 1348.5, 149.85, 658.35]"
      ]
     },
     "execution_count": 14,
     "metadata": {},
     "output_type": "execute_result"
    }
   ],
   "source": [
    "full_price"
   ]
  },
  {
   "cell_type": "code",
   "execution_count": 23,
   "metadata": {},
   "outputs": [],
   "source": [
    "buying = []\n",
    "for i in range(len(item_list)):\n",
    "    if wholesale_price_list[i] < full_price[i]:\n",
    "        buying.append('Yes')\n",
    "    else:\n",
    "        buying.append('No')\n",
    "    "
   ]
  },
  {
   "cell_type": "code",
   "execution_count": 24,
   "metadata": {},
   "outputs": [
    {
     "data": {
      "text/plain": [
       "['Yes', 'Yes', 'No', 'No']"
      ]
     },
     "execution_count": 24,
     "metadata": {},
     "output_type": "execute_result"
    }
   ],
   "source": [
    "buying"
   ]
  }
 ],
 "metadata": {
  "kernelspec": {
   "display_name": "Python 3",
   "language": "python",
   "name": "python3"
  },
  "language_info": {
   "codemirror_mode": {
    "name": "ipython",
    "version": 3
   },
   "file_extension": ".py",
   "mimetype": "text/x-python",
   "name": "python",
   "nbconvert_exporter": "python",
   "pygments_lexer": "ipython3",
   "version": "3.8.3"
  }
 },
 "nbformat": 4,
 "nbformat_minor": 4
}
